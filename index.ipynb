{
 "cells": [
  {
   "cell_type": "markdown",
   "metadata": {},
   "source": [
    "# W4995-AML Project team 32"
   ]
  },
  {
   "cell_type": "markdown",
   "metadata": {},
   "source": [
    "This note book represents team project of group 32 for W4995-AML course"
   ]
  },
  {
   "cell_type": "markdown",
   "metadata": {},
   "source": [
    "## Imports"
   ]
  },
  {
   "cell_type": "code",
   "execution_count": 23,
   "metadata": {},
   "outputs": [],
   "source": [
    "%matplotlib inline\n",
    "import matplotlib.pyplot as plt\n",
    "import seaborn as sns\n",
    "import numpy as np\n",
    "import pandas as pd\n",
    "import warnings\n",
    "warnings.filterwarnings('ignore')"
   ]
  },
  {
   "cell_type": "markdown",
   "metadata": {},
   "source": [
    "## Data Loading and preprocessing (Jihua Li)"
   ]
  },
  {
   "cell_type": "code",
   "execution_count": 2,
   "metadata": {},
   "outputs": [],
   "source": [
    "train_data = pd.read_csv('./data/train.csv')\n",
    "test_data = pd.read_csv('./data/test.csv')\n",
    "meal_info = pd.read_csv('./data/meal_info.csv')\n",
    "center_info = pd.read_csv('./data/fulfilment_center_info.csv')"
   ]
  },
  {
   "cell_type": "code",
   "execution_count": 3,
   "metadata": {},
   "outputs": [
    {
     "data": {
      "text/html": [
       "<div>\n",
       "<style scoped>\n",
       "    .dataframe tbody tr th:only-of-type {\n",
       "        vertical-align: middle;\n",
       "    }\n",
       "\n",
       "    .dataframe tbody tr th {\n",
       "        vertical-align: top;\n",
       "    }\n",
       "\n",
       "    .dataframe thead th {\n",
       "        text-align: right;\n",
       "    }\n",
       "</style>\n",
       "<table border=\"1\" class=\"dataframe\">\n",
       "  <thead>\n",
       "    <tr style=\"text-align: right;\">\n",
       "      <th></th>\n",
       "      <th>id</th>\n",
       "      <th>week</th>\n",
       "      <th>center_id</th>\n",
       "      <th>meal_id</th>\n",
       "      <th>checkout_price</th>\n",
       "      <th>base_price</th>\n",
       "      <th>emailer_for_promotion</th>\n",
       "      <th>homepage_featured</th>\n",
       "      <th>num_orders</th>\n",
       "    </tr>\n",
       "  </thead>\n",
       "  <tbody>\n",
       "    <tr>\n",
       "      <th>0</th>\n",
       "      <td>1379560</td>\n",
       "      <td>1</td>\n",
       "      <td>55</td>\n",
       "      <td>1885</td>\n",
       "      <td>136.83</td>\n",
       "      <td>152.29</td>\n",
       "      <td>0</td>\n",
       "      <td>0</td>\n",
       "      <td>177</td>\n",
       "    </tr>\n",
       "    <tr>\n",
       "      <th>1</th>\n",
       "      <td>1466964</td>\n",
       "      <td>1</td>\n",
       "      <td>55</td>\n",
       "      <td>1993</td>\n",
       "      <td>136.83</td>\n",
       "      <td>135.83</td>\n",
       "      <td>0</td>\n",
       "      <td>0</td>\n",
       "      <td>270</td>\n",
       "    </tr>\n",
       "    <tr>\n",
       "      <th>2</th>\n",
       "      <td>1346989</td>\n",
       "      <td>1</td>\n",
       "      <td>55</td>\n",
       "      <td>2539</td>\n",
       "      <td>134.86</td>\n",
       "      <td>135.86</td>\n",
       "      <td>0</td>\n",
       "      <td>0</td>\n",
       "      <td>189</td>\n",
       "    </tr>\n",
       "    <tr>\n",
       "      <th>3</th>\n",
       "      <td>1338232</td>\n",
       "      <td>1</td>\n",
       "      <td>55</td>\n",
       "      <td>2139</td>\n",
       "      <td>339.50</td>\n",
       "      <td>437.53</td>\n",
       "      <td>0</td>\n",
       "      <td>0</td>\n",
       "      <td>54</td>\n",
       "    </tr>\n",
       "    <tr>\n",
       "      <th>4</th>\n",
       "      <td>1448490</td>\n",
       "      <td>1</td>\n",
       "      <td>55</td>\n",
       "      <td>2631</td>\n",
       "      <td>243.50</td>\n",
       "      <td>242.50</td>\n",
       "      <td>0</td>\n",
       "      <td>0</td>\n",
       "      <td>40</td>\n",
       "    </tr>\n",
       "  </tbody>\n",
       "</table>\n",
       "</div>"
      ],
      "text/plain": [
       "        id  week  center_id  meal_id  checkout_price  base_price  \\\n",
       "0  1379560     1         55     1885          136.83      152.29   \n",
       "1  1466964     1         55     1993          136.83      135.83   \n",
       "2  1346989     1         55     2539          134.86      135.86   \n",
       "3  1338232     1         55     2139          339.50      437.53   \n",
       "4  1448490     1         55     2631          243.50      242.50   \n",
       "\n",
       "   emailer_for_promotion  homepage_featured  num_orders  \n",
       "0                      0                  0         177  \n",
       "1                      0                  0         270  \n",
       "2                      0                  0         189  \n",
       "3                      0                  0          54  \n",
       "4                      0                  0          40  "
      ]
     },
     "execution_count": 3,
     "metadata": {},
     "output_type": "execute_result"
    }
   ],
   "source": [
    "train_data.head()"
   ]
  },
  {
   "cell_type": "code",
   "execution_count": 4,
   "metadata": {
    "collapsed": false,
    "jupyter": {
     "outputs_hidden": false
    }
   },
   "outputs": [
    {
     "data": {
      "text/html": [
       "<div>\n",
       "<style scoped>\n",
       "    .dataframe tbody tr th:only-of-type {\n",
       "        vertical-align: middle;\n",
       "    }\n",
       "\n",
       "    .dataframe tbody tr th {\n",
       "        vertical-align: top;\n",
       "    }\n",
       "\n",
       "    .dataframe thead th {\n",
       "        text-align: right;\n",
       "    }\n",
       "</style>\n",
       "<table border=\"1\" class=\"dataframe\">\n",
       "  <thead>\n",
       "    <tr style=\"text-align: right;\">\n",
       "      <th></th>\n",
       "      <th>meal_id</th>\n",
       "      <th>category</th>\n",
       "      <th>cuisine</th>\n",
       "    </tr>\n",
       "  </thead>\n",
       "  <tbody>\n",
       "    <tr>\n",
       "      <th>0</th>\n",
       "      <td>1885</td>\n",
       "      <td>Beverages</td>\n",
       "      <td>Thai</td>\n",
       "    </tr>\n",
       "    <tr>\n",
       "      <th>1</th>\n",
       "      <td>1993</td>\n",
       "      <td>Beverages</td>\n",
       "      <td>Thai</td>\n",
       "    </tr>\n",
       "    <tr>\n",
       "      <th>2</th>\n",
       "      <td>2539</td>\n",
       "      <td>Beverages</td>\n",
       "      <td>Thai</td>\n",
       "    </tr>\n",
       "    <tr>\n",
       "      <th>3</th>\n",
       "      <td>1248</td>\n",
       "      <td>Beverages</td>\n",
       "      <td>Indian</td>\n",
       "    </tr>\n",
       "    <tr>\n",
       "      <th>4</th>\n",
       "      <td>2631</td>\n",
       "      <td>Beverages</td>\n",
       "      <td>Indian</td>\n",
       "    </tr>\n",
       "  </tbody>\n",
       "</table>\n",
       "</div>"
      ],
      "text/plain": [
       "   meal_id   category cuisine\n",
       "0     1885  Beverages    Thai\n",
       "1     1993  Beverages    Thai\n",
       "2     2539  Beverages    Thai\n",
       "3     1248  Beverages  Indian\n",
       "4     2631  Beverages  Indian"
      ]
     },
     "execution_count": 4,
     "metadata": {},
     "output_type": "execute_result"
    }
   ],
   "source": [
    "meal_info.head()"
   ]
  },
  {
   "cell_type": "code",
   "execution_count": 5,
   "metadata": {},
   "outputs": [
    {
     "data": {
      "text/html": [
       "<div>\n",
       "<style scoped>\n",
       "    .dataframe tbody tr th:only-of-type {\n",
       "        vertical-align: middle;\n",
       "    }\n",
       "\n",
       "    .dataframe tbody tr th {\n",
       "        vertical-align: top;\n",
       "    }\n",
       "\n",
       "    .dataframe thead th {\n",
       "        text-align: right;\n",
       "    }\n",
       "</style>\n",
       "<table border=\"1\" class=\"dataframe\">\n",
       "  <thead>\n",
       "    <tr style=\"text-align: right;\">\n",
       "      <th></th>\n",
       "      <th>center_id</th>\n",
       "      <th>city_code</th>\n",
       "      <th>region_code</th>\n",
       "      <th>center_type</th>\n",
       "      <th>op_area</th>\n",
       "    </tr>\n",
       "  </thead>\n",
       "  <tbody>\n",
       "    <tr>\n",
       "      <th>0</th>\n",
       "      <td>11</td>\n",
       "      <td>679</td>\n",
       "      <td>56</td>\n",
       "      <td>TYPE_A</td>\n",
       "      <td>3.7</td>\n",
       "    </tr>\n",
       "    <tr>\n",
       "      <th>1</th>\n",
       "      <td>13</td>\n",
       "      <td>590</td>\n",
       "      <td>56</td>\n",
       "      <td>TYPE_B</td>\n",
       "      <td>6.7</td>\n",
       "    </tr>\n",
       "    <tr>\n",
       "      <th>2</th>\n",
       "      <td>124</td>\n",
       "      <td>590</td>\n",
       "      <td>56</td>\n",
       "      <td>TYPE_C</td>\n",
       "      <td>4.0</td>\n",
       "    </tr>\n",
       "    <tr>\n",
       "      <th>3</th>\n",
       "      <td>66</td>\n",
       "      <td>648</td>\n",
       "      <td>34</td>\n",
       "      <td>TYPE_A</td>\n",
       "      <td>4.1</td>\n",
       "    </tr>\n",
       "    <tr>\n",
       "      <th>4</th>\n",
       "      <td>94</td>\n",
       "      <td>632</td>\n",
       "      <td>34</td>\n",
       "      <td>TYPE_C</td>\n",
       "      <td>3.6</td>\n",
       "    </tr>\n",
       "  </tbody>\n",
       "</table>\n",
       "</div>"
      ],
      "text/plain": [
       "   center_id  city_code  region_code center_type  op_area\n",
       "0         11        679           56      TYPE_A      3.7\n",
       "1         13        590           56      TYPE_B      6.7\n",
       "2        124        590           56      TYPE_C      4.0\n",
       "3         66        648           34      TYPE_A      4.1\n",
       "4         94        632           34      TYPE_C      3.6"
      ]
     },
     "execution_count": 5,
     "metadata": {},
     "output_type": "execute_result"
    }
   ],
   "source": [
    "center_info.head()"
   ]
  },
  {
   "cell_type": "code",
   "execution_count": 6,
   "metadata": {},
   "outputs": [
    {
     "name": "stdout",
     "output_type": "stream",
     "text": [
      "<class 'pandas.core.frame.DataFrame'>\n",
      "RangeIndex: 456548 entries, 0 to 456547\n",
      "Data columns (total 9 columns):\n",
      " #   Column                 Non-Null Count   Dtype  \n",
      "---  ------                 --------------   -----  \n",
      " 0   id                     456548 non-null  int64  \n",
      " 1   week                   456548 non-null  int64  \n",
      " 2   center_id              456548 non-null  int64  \n",
      " 3   meal_id                456548 non-null  int64  \n",
      " 4   checkout_price         456548 non-null  float64\n",
      " 5   base_price             456548 non-null  float64\n",
      " 6   emailer_for_promotion  456548 non-null  int64  \n",
      " 7   homepage_featured      456548 non-null  int64  \n",
      " 8   num_orders             456548 non-null  int64  \n",
      "dtypes: float64(2), int64(7)\n",
      "memory usage: 31.3 MB\n"
     ]
    }
   ],
   "source": [
    "train_data.info()"
   ]
  },
  {
   "cell_type": "code",
   "execution_count": 7,
   "metadata": {},
   "outputs": [
    {
     "name": "stdout",
     "output_type": "stream",
     "text": [
      "<class 'pandas.core.frame.DataFrame'>\n",
      "RangeIndex: 51 entries, 0 to 50\n",
      "Data columns (total 3 columns):\n",
      " #   Column    Non-Null Count  Dtype \n",
      "---  ------    --------------  ----- \n",
      " 0   meal_id   51 non-null     int64 \n",
      " 1   category  51 non-null     object\n",
      " 2   cuisine   51 non-null     object\n",
      "dtypes: int64(1), object(2)\n",
      "memory usage: 1.3+ KB\n"
     ]
    }
   ],
   "source": [
    "meal_info.info()"
   ]
  },
  {
   "cell_type": "code",
   "execution_count": 8,
   "metadata": {},
   "outputs": [
    {
     "name": "stdout",
     "output_type": "stream",
     "text": [
      "<class 'pandas.core.frame.DataFrame'>\n",
      "RangeIndex: 77 entries, 0 to 76\n",
      "Data columns (total 5 columns):\n",
      " #   Column       Non-Null Count  Dtype  \n",
      "---  ------       --------------  -----  \n",
      " 0   center_id    77 non-null     int64  \n",
      " 1   city_code    77 non-null     int64  \n",
      " 2   region_code  77 non-null     int64  \n",
      " 3   center_type  77 non-null     object \n",
      " 4   op_area      77 non-null     float64\n",
      "dtypes: float64(1), int64(3), object(1)\n",
      "memory usage: 3.1+ KB\n"
     ]
    }
   ],
   "source": [
    "center_info.info()"
   ]
  },
  {
   "cell_type": "markdown",
   "metadata": {},
   "source": [
    "**Exciting, there is no obvious missing data**"
   ]
  },
  {
   "cell_type": "code",
   "execution_count": 9,
   "metadata": {},
   "outputs": [],
   "source": [
    "train_data = pd.merge(train_data,meal_info,on='meal_id',how='left')\n",
    "train_data = pd.merge(train_data,center_info, on='center_id', how='left')"
   ]
  },
  {
   "cell_type": "code",
   "execution_count": 10,
   "metadata": {
    "scrolled": true
   },
   "outputs": [
    {
     "data": {
      "text/html": [
       "<div>\n",
       "<style scoped>\n",
       "    .dataframe tbody tr th:only-of-type {\n",
       "        vertical-align: middle;\n",
       "    }\n",
       "\n",
       "    .dataframe tbody tr th {\n",
       "        vertical-align: top;\n",
       "    }\n",
       "\n",
       "    .dataframe thead th {\n",
       "        text-align: right;\n",
       "    }\n",
       "</style>\n",
       "<table border=\"1\" class=\"dataframe\">\n",
       "  <thead>\n",
       "    <tr style=\"text-align: right;\">\n",
       "      <th></th>\n",
       "      <th>id</th>\n",
       "      <th>week</th>\n",
       "      <th>center_id</th>\n",
       "      <th>meal_id</th>\n",
       "      <th>checkout_price</th>\n",
       "      <th>base_price</th>\n",
       "      <th>emailer_for_promotion</th>\n",
       "      <th>homepage_featured</th>\n",
       "      <th>num_orders</th>\n",
       "      <th>category</th>\n",
       "      <th>cuisine</th>\n",
       "      <th>city_code</th>\n",
       "      <th>region_code</th>\n",
       "      <th>center_type</th>\n",
       "      <th>op_area</th>\n",
       "    </tr>\n",
       "  </thead>\n",
       "  <tbody>\n",
       "    <tr>\n",
       "      <th>0</th>\n",
       "      <td>1379560</td>\n",
       "      <td>1</td>\n",
       "      <td>55</td>\n",
       "      <td>1885</td>\n",
       "      <td>136.83</td>\n",
       "      <td>152.29</td>\n",
       "      <td>0</td>\n",
       "      <td>0</td>\n",
       "      <td>177</td>\n",
       "      <td>Beverages</td>\n",
       "      <td>Thai</td>\n",
       "      <td>647</td>\n",
       "      <td>56</td>\n",
       "      <td>TYPE_C</td>\n",
       "      <td>2.0</td>\n",
       "    </tr>\n",
       "    <tr>\n",
       "      <th>1</th>\n",
       "      <td>1466964</td>\n",
       "      <td>1</td>\n",
       "      <td>55</td>\n",
       "      <td>1993</td>\n",
       "      <td>136.83</td>\n",
       "      <td>135.83</td>\n",
       "      <td>0</td>\n",
       "      <td>0</td>\n",
       "      <td>270</td>\n",
       "      <td>Beverages</td>\n",
       "      <td>Thai</td>\n",
       "      <td>647</td>\n",
       "      <td>56</td>\n",
       "      <td>TYPE_C</td>\n",
       "      <td>2.0</td>\n",
       "    </tr>\n",
       "    <tr>\n",
       "      <th>2</th>\n",
       "      <td>1346989</td>\n",
       "      <td>1</td>\n",
       "      <td>55</td>\n",
       "      <td>2539</td>\n",
       "      <td>134.86</td>\n",
       "      <td>135.86</td>\n",
       "      <td>0</td>\n",
       "      <td>0</td>\n",
       "      <td>189</td>\n",
       "      <td>Beverages</td>\n",
       "      <td>Thai</td>\n",
       "      <td>647</td>\n",
       "      <td>56</td>\n",
       "      <td>TYPE_C</td>\n",
       "      <td>2.0</td>\n",
       "    </tr>\n",
       "    <tr>\n",
       "      <th>3</th>\n",
       "      <td>1338232</td>\n",
       "      <td>1</td>\n",
       "      <td>55</td>\n",
       "      <td>2139</td>\n",
       "      <td>339.50</td>\n",
       "      <td>437.53</td>\n",
       "      <td>0</td>\n",
       "      <td>0</td>\n",
       "      <td>54</td>\n",
       "      <td>Beverages</td>\n",
       "      <td>Indian</td>\n",
       "      <td>647</td>\n",
       "      <td>56</td>\n",
       "      <td>TYPE_C</td>\n",
       "      <td>2.0</td>\n",
       "    </tr>\n",
       "    <tr>\n",
       "      <th>4</th>\n",
       "      <td>1448490</td>\n",
       "      <td>1</td>\n",
       "      <td>55</td>\n",
       "      <td>2631</td>\n",
       "      <td>243.50</td>\n",
       "      <td>242.50</td>\n",
       "      <td>0</td>\n",
       "      <td>0</td>\n",
       "      <td>40</td>\n",
       "      <td>Beverages</td>\n",
       "      <td>Indian</td>\n",
       "      <td>647</td>\n",
       "      <td>56</td>\n",
       "      <td>TYPE_C</td>\n",
       "      <td>2.0</td>\n",
       "    </tr>\n",
       "  </tbody>\n",
       "</table>\n",
       "</div>"
      ],
      "text/plain": [
       "        id  week  center_id  meal_id  checkout_price  base_price  \\\n",
       "0  1379560     1         55     1885          136.83      152.29   \n",
       "1  1466964     1         55     1993          136.83      135.83   \n",
       "2  1346989     1         55     2539          134.86      135.86   \n",
       "3  1338232     1         55     2139          339.50      437.53   \n",
       "4  1448490     1         55     2631          243.50      242.50   \n",
       "\n",
       "   emailer_for_promotion  homepage_featured  num_orders   category cuisine  \\\n",
       "0                      0                  0         177  Beverages    Thai   \n",
       "1                      0                  0         270  Beverages    Thai   \n",
       "2                      0                  0         189  Beverages    Thai   \n",
       "3                      0                  0          54  Beverages  Indian   \n",
       "4                      0                  0          40  Beverages  Indian   \n",
       "\n",
       "   city_code  region_code center_type  op_area  \n",
       "0        647           56      TYPE_C      2.0  \n",
       "1        647           56      TYPE_C      2.0  \n",
       "2        647           56      TYPE_C      2.0  \n",
       "3        647           56      TYPE_C      2.0  \n",
       "4        647           56      TYPE_C      2.0  "
      ]
     },
     "execution_count": 10,
     "metadata": {},
     "output_type": "execute_result"
    }
   ],
   "source": [
    "train_data.head()"
   ]
  },
  {
   "cell_type": "markdown",
   "metadata": {},
   "source": [
    "## Feature analysis"
   ]
  },
  {
   "cell_type": "markdown",
   "metadata": {},
   "source": [
    "### Category, Cuisine and City Code (Chenxi Jiang)"
   ]
  },
  {
   "cell_type": "code",
   "execution_count": 11,
   "metadata": {},
   "outputs": [
    {
     "data": {
      "image/png": "[encoded data removed]",
      "text/plain": [
       "<Figure size 432x288 with 1 Axes>"
      ]
     },
     "metadata": {
      "needs_background": "light"
     },
     "output_type": "display_data"
    }
   ],
   "source": [
    "train_data['category'].value_counts().plot(kind='bar')\n",
    "plt.title(\"Category for people's orders\")\n",
    "plt.xlabel('Category')\n",
    "plt.ylabel('Count')\n",
    "plt.show()"
   ]
  },
  {
   "cell_type": "markdown",
   "metadata": {},
   "source": [
    "It's obvious that the Beverage is the most popular product for people and fish is the least. Also, they think \n",
    "rice bowl, sandwich, and pizza which are main courses have the same value through their life. Hence, we can provide\n",
    "more beverages and less fish."
   ]
  },
  {
   "cell_type": "code",
   "execution_count": 12,
   "metadata": {},
   "outputs": [
    {
     "data": {
      "image/png": "[encoded data removed]",
      "text/plain": [
       "<Figure size 432x288 with 1 Axes>"
      ]
     },
     "metadata": {
      "needs_background": "light"
     },
     "output_type": "display_data"
    }
   ],
   "source": [
    "train_data['cuisine'].value_counts().plot(kind='bar')\n",
    "plt.title(\"Cuisine for people's orders\")\n",
    "plt.xlabel('Cuisine')\n",
    "plt.ylabel('Count')\n",
    "plt.show()"
   ]
  },
  {
   "cell_type": "markdown",
   "metadata": {},
   "source": [
    "We can observe that Italian is the most popular style for people to accept, then thai food is the second popular and Continental is the least. However, the intensity of the popular for those cuisine styles are not so much different from each other, which we can conclude the cuisine is globaly accpected for people."
   ]
  },
  {
   "cell_type": "code",
   "execution_count": 14,
   "metadata": {},
   "outputs": [],
   "source": [
    "city_vs_orders = train_data.groupby(by=['city_code']).sum().sort_values(by=\"num_orders\", ascending=False)"
   ]
  },
  {
   "cell_type": "code",
   "execution_count": 16,
   "metadata": {},
   "outputs": [
    {
     "data": {
      "text/html": [
       "<div>\n",
       "<style scoped>\n",
       "    .dataframe tbody tr th:only-of-type {\n",
       "        vertical-align: middle;\n",
       "    }\n",
       "\n",
       "    .dataframe tbody tr th {\n",
       "        vertical-align: top;\n",
       "    }\n",
       "\n",
       "    .dataframe thead th {\n",
       "        text-align: right;\n",
       "    }\n",
       "</style>\n",
       "<table border=\"1\" class=\"dataframe\">\n",
       "  <thead>\n",
       "    <tr style=\"text-align: right;\">\n",
       "      <th></th>\n",
       "      <th>id</th>\n",
       "      <th>week</th>\n",
       "      <th>center_id</th>\n",
       "      <th>meal_id</th>\n",
       "      <th>checkout_price</th>\n",
       "      <th>base_price</th>\n",
       "      <th>emailer_for_promotion</th>\n",
       "      <th>homepage_featured</th>\n",
       "      <th>num_orders</th>\n",
       "      <th>region_code</th>\n",
       "      <th>op_area</th>\n",
       "    </tr>\n",
       "    <tr>\n",
       "      <th>city_code</th>\n",
       "      <th></th>\n",
       "      <th></th>\n",
       "      <th></th>\n",
       "      <th></th>\n",
       "      <th></th>\n",
       "      <th></th>\n",
       "      <th></th>\n",
       "      <th></th>\n",
       "      <th></th>\n",
       "      <th></th>\n",
       "      <th></th>\n",
       "    </tr>\n",
       "  </thead>\n",
       "  <tbody>\n",
       "    <tr>\n",
       "      <th>590</th>\n",
       "      <td>68500380033</td>\n",
       "      <td>4096327</td>\n",
       "      <td>4009581</td>\n",
       "      <td>109676519</td>\n",
       "      <td>1.809698e+07</td>\n",
       "      <td>1.932221e+07</td>\n",
       "      <td>3863</td>\n",
       "      <td>5462</td>\n",
       "      <td>19849062</td>\n",
       "      <td>3065776</td>\n",
       "      <td>243376.6</td>\n",
       "    </tr>\n",
       "    <tr>\n",
       "      <th>526</th>\n",
       "      <td>54460969019</td>\n",
       "      <td>3234304</td>\n",
       "      <td>3569828</td>\n",
       "      <td>88571571</td>\n",
       "      <td>1.454972e+07</td>\n",
       "      <td>1.543552e+07</td>\n",
       "      <td>3928</td>\n",
       "      <td>4126</td>\n",
       "      <td>9207953</td>\n",
       "      <td>1479850</td>\n",
       "      <td>164640.4</td>\n",
       "    </tr>\n",
       "    <tr>\n",
       "      <th>638</th>\n",
       "      <td>25075737939</td>\n",
       "      <td>1501585</td>\n",
       "      <td>1264329</td>\n",
       "      <td>40143244</td>\n",
       "      <td>6.610136e+06</td>\n",
       "      <td>7.074404e+06</td>\n",
       "      <td>1366</td>\n",
       "      <td>2518</td>\n",
       "      <td>6662450</td>\n",
       "      <td>1122632</td>\n",
       "      <td>120947.8</td>\n",
       "    </tr>\n",
       "    <tr>\n",
       "      <th>604</th>\n",
       "      <td>16311572669</td>\n",
       "      <td>973022</td>\n",
       "      <td>711660</td>\n",
       "      <td>26137348</td>\n",
       "      <td>4.279638e+06</td>\n",
       "      <td>4.606252e+06</td>\n",
       "      <td>904</td>\n",
       "      <td>1476</td>\n",
       "      <td>3533367</td>\n",
       "      <td>731472</td>\n",
       "      <td>55950.6</td>\n",
       "    </tr>\n",
       "    <tr>\n",
       "      <th>522</th>\n",
       "      <td>16860730917</td>\n",
       "      <td>1005792</td>\n",
       "      <td>1029436</td>\n",
       "      <td>27049640</td>\n",
       "      <td>4.454606e+06</td>\n",
       "      <td>4.759807e+06</td>\n",
       "      <td>910</td>\n",
       "      <td>1363</td>\n",
       "      <td>3375905</td>\n",
       "      <td>753704</td>\n",
       "      <td>53157.2</td>\n",
       "    </tr>\n",
       "  </tbody>\n",
       "</table>\n",
       "</div>"
      ],
      "text/plain": [
       "                    id     week  center_id    meal_id  checkout_price  \\\n",
       "city_code                                                               \n",
       "590        68500380033  4096327    4009581  109676519    1.809698e+07   \n",
       "526        54460969019  3234304    3569828   88571571    1.454972e+07   \n",
       "638        25075737939  1501585    1264329   40143244    6.610136e+06   \n",
       "604        16311572669   973022     711660   26137348    4.279638e+06   \n",
       "522        16860730917  1005792    1029436   27049640    4.454606e+06   \n",
       "\n",
       "             base_price  emailer_for_promotion  homepage_featured  num_orders  \\\n",
       "city_code                                                                       \n",
       "590        1.932221e+07                   3863               5462    19849062   \n",
       "526        1.543552e+07                   3928               4126     9207953   \n",
       "638        7.074404e+06                   1366               2518     6662450   \n",
       "604        4.606252e+06                    904               1476     3533367   \n",
       "522        4.759807e+06                    910               1363     3375905   \n",
       "\n",
       "           region_code   op_area  \n",
       "city_code                         \n",
       "590            3065776  243376.6  \n",
       "526            1479850  164640.4  \n",
       "638            1122632  120947.8  \n",
       "604             731472   55950.6  \n",
       "522             753704   53157.2  "
      ]
     },
     "execution_count": 16,
     "metadata": {},
     "output_type": "execute_result"
    }
   ],
   "source": [
    "city_vs_orders.head()"
   ]
  },
  {
   "cell_type": "code",
   "execution_count": 15,
   "metadata": {},
   "outputs": [
    {
     "data": {
      "text/html": [
       "<div>\n",
       "<style scoped>\n",
       "    .dataframe tbody tr th:only-of-type {\n",
       "        vertical-align: middle;\n",
       "    }\n",
       "\n",
       "    .dataframe tbody tr th {\n",
       "        vertical-align: top;\n",
       "    }\n",
       "\n",
       "    .dataframe thead th {\n",
       "        text-align: right;\n",
       "    }\n",
       "</style>\n",
       "<table border=\"1\" class=\"dataframe\">\n",
       "  <thead>\n",
       "    <tr style=\"text-align: right;\">\n",
       "      <th></th>\n",
       "      <th>id</th>\n",
       "      <th>week</th>\n",
       "      <th>center_id</th>\n",
       "      <th>meal_id</th>\n",
       "      <th>checkout_price</th>\n",
       "      <th>base_price</th>\n",
       "      <th>emailer_for_promotion</th>\n",
       "      <th>homepage_featured</th>\n",
       "      <th>num_orders</th>\n",
       "      <th>region_code</th>\n",
       "      <th>op_area</th>\n",
       "    </tr>\n",
       "    <tr>\n",
       "      <th>city_code</th>\n",
       "      <th></th>\n",
       "      <th></th>\n",
       "      <th></th>\n",
       "      <th></th>\n",
       "      <th></th>\n",
       "      <th></th>\n",
       "      <th></th>\n",
       "      <th></th>\n",
       "      <th></th>\n",
       "      <th></th>\n",
       "      <th></th>\n",
       "    </tr>\n",
       "  </thead>\n",
       "  <tbody>\n",
       "    <tr>\n",
       "      <th>658</th>\n",
       "      <td>6981698535</td>\n",
       "      <td>418663</td>\n",
       "      <td>900151</td>\n",
       "      <td>11449377</td>\n",
       "      <td>1882743.50</td>\n",
       "      <td>2006411.62</td>\n",
       "      <td>542</td>\n",
       "      <td>612</td>\n",
       "      <td>813948</td>\n",
       "      <td>190094</td>\n",
       "      <td>21804.9</td>\n",
       "    </tr>\n",
       "    <tr>\n",
       "      <th>541</th>\n",
       "      <td>5616570486</td>\n",
       "      <td>334282</td>\n",
       "      <td>256557</td>\n",
       "      <td>9156923</td>\n",
       "      <td>1463309.87</td>\n",
       "      <td>1566797.27</td>\n",
       "      <td>481</td>\n",
       "      <td>379</td>\n",
       "      <td>768013</td>\n",
       "      <td>346577</td>\n",
       "      <td>12602.8</td>\n",
       "    </tr>\n",
       "    <tr>\n",
       "      <th>693</th>\n",
       "      <td>5774136160</td>\n",
       "      <td>345139</td>\n",
       "      <td>643153</td>\n",
       "      <td>9339460</td>\n",
       "      <td>1465443.75</td>\n",
       "      <td>1567617.08</td>\n",
       "      <td>489</td>\n",
       "      <td>484</td>\n",
       "      <td>743148</td>\n",
       "      <td>157318</td>\n",
       "      <td>12955.6</td>\n",
       "    </tr>\n",
       "    <tr>\n",
       "      <th>702</th>\n",
       "      <td>6589564742</td>\n",
       "      <td>390419</td>\n",
       "      <td>389536</td>\n",
       "      <td>10882981</td>\n",
       "      <td>1758719.84</td>\n",
       "      <td>1868701.41</td>\n",
       "      <td>518</td>\n",
       "      <td>438</td>\n",
       "      <td>691044</td>\n",
       "      <td>184240</td>\n",
       "      <td>14739.2</td>\n",
       "    </tr>\n",
       "    <tr>\n",
       "      <th>478</th>\n",
       "      <td>6278827384</td>\n",
       "      <td>372444</td>\n",
       "      <td>748129</td>\n",
       "      <td>10349169</td>\n",
       "      <td>1625222.55</td>\n",
       "      <td>1741617.52</td>\n",
       "      <td>498</td>\n",
       "      <td>437</td>\n",
       "      <td>637527</td>\n",
       "      <td>386617</td>\n",
       "      <td>12050.4</td>\n",
       "    </tr>\n",
       "  </tbody>\n",
       "</table>\n",
       "</div>"
      ],
      "text/plain": [
       "                   id    week  center_id   meal_id  checkout_price  \\\n",
       "city_code                                                            \n",
       "658        6981698535  418663     900151  11449377      1882743.50   \n",
       "541        5616570486  334282     256557   9156923      1463309.87   \n",
       "693        5774136160  345139     643153   9339460      1465443.75   \n",
       "702        6589564742  390419     389536  10882981      1758719.84   \n",
       "478        6278827384  372444     748129  10349169      1625222.55   \n",
       "\n",
       "           base_price  emailer_for_promotion  homepage_featured  num_orders  \\\n",
       "city_code                                                                     \n",
       "658        2006411.62                    542                612      813948   \n",
       "541        1566797.27                    481                379      768013   \n",
       "693        1567617.08                    489                484      743148   \n",
       "702        1868701.41                    518                438      691044   \n",
       "478        1741617.52                    498                437      637527   \n",
       "\n",
       "           region_code  op_area  \n",
       "city_code                        \n",
       "658             190094  21804.9  \n",
       "541             346577  12602.8  \n",
       "693             157318  12955.6  \n",
       "702             184240  14739.2  \n",
       "478             386617  12050.4  "
      ]
     },
     "execution_count": 15,
     "metadata": {},
     "output_type": "execute_result"
    }
   ],
   "source": [
    "city_vs_orders.tail()"
   ]
  },
  {
   "cell_type": "code",
   "execution_count": 18,
   "metadata": {},
   "outputs": [
    {
     "data": {
      "image/png": "[encoded data removed]",
      "text/plain": [
       "<Figure size 432x288 with 1 Axes>"
      ]
     },
     "metadata": {
      "needs_background": "light"
     },
     "output_type": "display_data"
    }
   ],
   "source": [
    "plt.scatter(city_vs_orders.index, city_vs_orders.num_orders)\n",
    "plt.xlabel('City Code')\n",
    "plt.ylabel('Number of orders')\n",
    "plt.title('City Code vs Number of Orders')\n",
    "plt.show()"
   ]
  },
  {
   "cell_type": "markdown",
   "metadata": {},
   "source": [
    "We can infer from the result that 3 of the cities has the most orders while the rest of the cities are pretty much on average"
   ]
  },
  {
   "cell_type": "markdown",
   "metadata": {},
   "source": [
    "## Features: Checkout_price, base_price and region code (Zixiang Tang)"
   ]
  },
  {
   "cell_type": "code",
   "execution_count": 17,
   "metadata": {},
   "outputs": [
    {
     "name": "stdout",
     "output_type": "stream",
     "text": [
      "missing values in checkout price:  False\n",
      "missing values in base price:  False\n",
      "missing values in region code:  False\n",
      "missing values in number of orders:  False\n"
     ]
    }
   ],
   "source": [
    "features = ['checkout_price','base_price','region_code']\n",
    "target = train_data['num_orders']\n",
    "print(f'missing values in checkout price: ', any(train_data['checkout_price'].isnull()))\n",
    "print(f'missing values in base price: ', any(train_data['base_price'].isnull()))\n",
    "print(f'missing values in region code: ', any(train_data['region_code'].isnull()))\n",
    "print(f'missing values in number of orders: ', any(train_data['num_orders'].isnull()))"
   ]
  },
  {
   "cell_type": "markdown",
   "metadata": {},
   "source": [
    "It seems there's no missing valuse in checkout price, base price and region code. Also no missing values in target. "
   ]
  },
  {
   "cell_type": "code",
   "execution_count": 18,
   "metadata": {},
   "outputs": [
    {
     "data": {
      "image/png": "[encoded data removed]",
      "text/plain": [
       "<Figure size 1080x360 with 3 Axes>"
      ]
     },
     "metadata": {
      "needs_background": "light"
     },
     "output_type": "display_data"
    }
   ],
   "source": [
    "ind = 0\n",
    "plt.figure(figsize=(15,5))\n",
    "for i in features:\n",
    "    ind+=1\n",
    "    plt.subplot(1,3,ind)\n",
    "    plt.hist(train_data[i])\n",
    "    plt.title(i)"
   ]
  },
  {
   "cell_type": "markdown",
   "metadata": {},
   "source": [
    "For check out and base price, the distributions are a bit skew to the right. For region code distribution, it looks like the data is gathered from several specific regions. "
   ]
  },
  {
   "cell_type": "code",
   "execution_count": 19,
   "metadata": {},
   "outputs": [
    {
     "name": "stdout",
     "output_type": "stream",
     "text": [
      "[56 85 77 34 35 71 93 23]\n"
     ]
    }
   ],
   "source": [
    "print(train_data['region_code'].unique())"
   ]
  },
  {
   "cell_type": "markdown",
   "metadata": {},
   "source": [
    "It's based on 8 regions."
   ]
  },
  {
   "cell_type": "code",
   "execution_count": 20,
   "metadata": {},
   "outputs": [
    {
     "data": {
      "image/png": "[encoded data removed]",
      "text/plain": [
       "<Figure size 1296x360 with 3 Axes>"
      ]
     },
     "metadata": {
      "needs_background": "light"
     },
     "output_type": "display_data"
    }
   ],
   "source": [
    "ind = 0\n",
    "plt.figure(figsize=(18,5))\n",
    "for i in features:\n",
    "    ind+=1\n",
    "    plt.subplot(1,3,ind)\n",
    "    plt.scatter(train_data[i],target)\n",
    "    plt.title(f'num orders vs '+i)\n",
    "    plt.xlabel(i)\n",
    "    plt.ylabel('num orders')"
   ]
  },
  {
   "cell_type": "markdown",
   "metadata": {},
   "source": [
    "It doesn't look like there's relationship between check out price, base price, region code and our target. However, at some specific values of the three features, number of orders are higher than others."
   ]
  },
  {
   "cell_type": "code",
   "execution_count": 19,
   "metadata": {},
   "outputs": [
    {
     "data": {
      "image/png": "[encoded data removed]",
      "text/plain": [
       "<Figure size 432x288 with 1 Axes>"
      ]
     },
     "metadata": {
      "needs_background": "light"
     },
     "output_type": "display_data"
    }
   ],
   "source": [
    "plt.scatter(train_data['checkout_price'],train_data['base_price'])\n",
    "plt.xlabel('check out price')\n",
    "plt.ylabel('base price')\n",
    "plt.title('Checkout price vs Base price')\n",
    "plt.show()"
   ]
  },
  {
   "cell_type": "markdown",
   "metadata": {},
   "source": [
    "There's a linear relationship between check out price and base price (since they are related). "
   ]
  },
  {
   "cell_type": "code",
   "execution_count": 22,
   "metadata": {
    "scrolled": true,
    "tags": []
   },
   "outputs": [
    {
     "data": {
      "image/png": "[encoded data removed]",
      "text/plain": [
       "<Figure size 432x288 with 1 Axes>"
      ]
     },
     "metadata": {
      "needs_background": "light"
     },
     "output_type": "display_data"
    }
   ],
   "source": [
    "plt.scatter(train_data['checkout_price'],train_data['region_code'])\n",
    "plt.xlabel('check out price')\n",
    "plt.ylabel('region code')\n",
    "plt.title('Checkout price vs Region code')\n",
    "plt.show()"
   ]
  },
  {
   "cell_type": "markdown",
   "metadata": {},
   "source": [
    "There's no relationship between check out price and region code, same for base price and region code."
   ]
  },
  {
   "cell_type": "markdown",
   "metadata": {},
   "source": [
    "## homepage_featured, emailer_for_promotion (Nicolo)"
   ]
  },
  {
   "cell_type": "code",
   "execution_count": 24,
   "metadata": {},
   "outputs": [
    {
     "data": {
      "image/png": "[encoded data removed]",
      "text/plain": [
       "<Figure size 432x288 with 1 Axes>"
      ]
     },
     "metadata": {
      "needs_background": "light"
     },
     "output_type": "display_data"
    }
   ],
   "source": [
    "fig,ax = plt.subplots(1,1,figsize=(6,4));\n",
    "sns.barplot(train_data['homepage_featured'].value_counts().index,train_data['homepage_featured'].value_counts());\n",
    "    \n",
    "ax.set_title(\"Homepage Featured Distribution\");"
   ]
  },
  {
   "cell_type": "code",
   "execution_count": 25,
   "metadata": {},
   "outputs": [
    {
     "data": {
      "image/png": "[encoded data removed]",
      "text/plain": [
       "<Figure size 432x288 with 1 Axes>"
      ]
     },
     "metadata": {
      "needs_background": "light"
     },
     "output_type": "display_data"
    }
   ],
   "source": [
    "fig,ax = plt.subplots(1,1,figsize=(6,4));\n",
    "sns.barplot(train_data['emailer_for_promotion'].value_counts().index,train_data['emailer_for_promotion'].value_counts());\n",
    "\n",
    "ax.set_title(\"Emailer for Promotion Distribution\");"
   ]
  },
  {
   "cell_type": "code",
   "execution_count": 25,
   "metadata": {},
   "outputs": [
    {
     "data": {
      "text/plain": [
       "0    419498\n",
       "1     37050\n",
       "Name: emailer_for_promotion, dtype: int64"
      ]
     },
     "execution_count": 25,
     "metadata": {},
     "output_type": "execute_result"
    }
   ],
   "source": [
    "train_data['emailer_for_promotion'].value_counts()"
   ]
  },
  {
   "cell_type": "code",
   "execution_count": 26,
   "metadata": {},
   "outputs": [
    {
     "data": {
      "text/html": [
       "<div>\n",
       "<style scoped>\n",
       "    .dataframe tbody tr th:only-of-type {\n",
       "        vertical-align: middle;\n",
       "    }\n",
       "\n",
       "    .dataframe tbody tr th {\n",
       "        vertical-align: top;\n",
       "    }\n",
       "\n",
       "    .dataframe thead th {\n",
       "        text-align: right;\n",
       "    }\n",
       "</style>\n",
       "<table border=\"1\" class=\"dataframe\">\n",
       "  <thead>\n",
       "    <tr style=\"text-align: right;\">\n",
       "      <th></th>\n",
       "      <th>id</th>\n",
       "      <th>center_id</th>\n",
       "      <th>meal_id</th>\n",
       "      <th>checkout_price</th>\n",
       "      <th>base_price</th>\n",
       "      <th>emailer_for_promotion</th>\n",
       "      <th>homepage_featured</th>\n",
       "      <th>num_orders</th>\n",
       "      <th>city_code</th>\n",
       "      <th>region_code</th>\n",
       "      <th>op_area</th>\n",
       "    </tr>\n",
       "    <tr>\n",
       "      <th>week</th>\n",
       "      <th></th>\n",
       "      <th></th>\n",
       "      <th></th>\n",
       "      <th></th>\n",
       "      <th></th>\n",
       "      <th></th>\n",
       "      <th></th>\n",
       "      <th></th>\n",
       "      <th></th>\n",
       "      <th></th>\n",
       "      <th></th>\n",
       "    </tr>\n",
       "  </thead>\n",
       "  <tbody>\n",
       "    <tr>\n",
       "      <th>1</th>\n",
       "      <td>1.247659e+06</td>\n",
       "      <td>81.552019</td>\n",
       "      <td>1977.382957</td>\n",
       "      <td>330.530205</td>\n",
       "      <td>348.516537</td>\n",
       "      <td>0.122177</td>\n",
       "      <td>0.141684</td>\n",
       "      <td>271.136550</td>\n",
       "      <td>601.802190</td>\n",
       "      <td>56.670431</td>\n",
       "      <td>4.079877</td>\n",
       "    </tr>\n",
       "    <tr>\n",
       "      <th>2</th>\n",
       "      <td>1.248203e+06</td>\n",
       "      <td>81.420925</td>\n",
       "      <td>1980.309738</td>\n",
       "      <td>323.926944</td>\n",
       "      <td>347.299448</td>\n",
       "      <td>0.214434</td>\n",
       "      <td>0.177486</td>\n",
       "      <td>271.783149</td>\n",
       "      <td>601.921961</td>\n",
       "      <td>56.691298</td>\n",
       "      <td>4.085014</td>\n",
       "    </tr>\n",
       "    <tr>\n",
       "      <th>3</th>\n",
       "      <td>1.247274e+06</td>\n",
       "      <td>81.822008</td>\n",
       "      <td>1974.210072</td>\n",
       "      <td>327.202580</td>\n",
       "      <td>347.827544</td>\n",
       "      <td>0.035874</td>\n",
       "      <td>0.109003</td>\n",
       "      <td>239.828217</td>\n",
       "      <td>601.939289</td>\n",
       "      <td>56.703346</td>\n",
       "      <td>4.078682</td>\n",
       "    </tr>\n",
       "    <tr>\n",
       "      <th>4</th>\n",
       "      <td>1.250912e+06</td>\n",
       "      <td>81.723088</td>\n",
       "      <td>1980.793354</td>\n",
       "      <td>330.160502</td>\n",
       "      <td>348.372066</td>\n",
       "      <td>0.000000</td>\n",
       "      <td>0.101073</td>\n",
       "      <td>257.365524</td>\n",
       "      <td>601.919003</td>\n",
       "      <td>56.641398</td>\n",
       "      <td>4.087747</td>\n",
       "    </tr>\n",
       "    <tr>\n",
       "      <th>5</th>\n",
       "      <td>1.249198e+06</td>\n",
       "      <td>83.101434</td>\n",
       "      <td>1980.389647</td>\n",
       "      <td>315.194676</td>\n",
       "      <td>350.148709</td>\n",
       "      <td>0.117873</td>\n",
       "      <td>0.162994</td>\n",
       "      <td>419.263729</td>\n",
       "      <td>601.981462</td>\n",
       "      <td>56.298356</td>\n",
       "      <td>4.077824</td>\n",
       "    </tr>\n",
       "  </tbody>\n",
       "</table>\n",
       "</div>"
      ],
      "text/plain": [
       "                id  center_id      meal_id  checkout_price  base_price  \\\n",
       "week                                                                     \n",
       "1     1.247659e+06  81.552019  1977.382957      330.530205  348.516537   \n",
       "2     1.248203e+06  81.420925  1980.309738      323.926944  347.299448   \n",
       "3     1.247274e+06  81.822008  1974.210072      327.202580  347.827544   \n",
       "4     1.250912e+06  81.723088  1980.793354      330.160502  348.372066   \n",
       "5     1.249198e+06  83.101434  1980.389647      315.194676  350.148709   \n",
       "\n",
       "      emailer_for_promotion  homepage_featured  num_orders   city_code  \\\n",
       "week                                                                     \n",
       "1                  0.122177           0.141684  271.136550  601.802190   \n",
       "2                  0.214434           0.177486  271.783149  601.921961   \n",
       "3                  0.035874           0.109003  239.828217  601.939289   \n",
       "4                  0.000000           0.101073  257.365524  601.919003   \n",
       "5                  0.117873           0.162994  419.263729  601.981462   \n",
       "\n",
       "      region_code   op_area  \n",
       "week                         \n",
       "1       56.670431  4.079877  \n",
       "2       56.691298  4.085014  \n",
       "3       56.703346  4.078682  \n",
       "4       56.641398  4.087747  \n",
       "5       56.298356  4.077824  "
      ]
     },
     "execution_count": 26,
     "metadata": {},
     "output_type": "execute_result"
    }
   ],
   "source": [
    "week_train = train_data.groupby(by='week').mean()\n",
    "week_train.head()"
   ]
  },
  {
   "cell_type": "code",
   "execution_count": 27,
   "metadata": {},
   "outputs": [
    {
     "data": {
      "text/html": [
       "<div>\n",
       "<style scoped>\n",
       "    .dataframe tbody tr th:only-of-type {\n",
       "        vertical-align: middle;\n",
       "    }\n",
       "\n",
       "    .dataframe tbody tr th {\n",
       "        vertical-align: top;\n",
       "    }\n",
       "\n",
       "    .dataframe thead th {\n",
       "        text-align: right;\n",
       "    }\n",
       "</style>\n",
       "<table border=\"1\" class=\"dataframe\">\n",
       "  <thead>\n",
       "    <tr style=\"text-align: right;\">\n",
       "      <th></th>\n",
       "      <th>id</th>\n",
       "      <th>week</th>\n",
       "      <th>meal_id</th>\n",
       "      <th>checkout_price</th>\n",
       "      <th>base_price</th>\n",
       "      <th>emailer_for_promotion</th>\n",
       "      <th>homepage_featured</th>\n",
       "      <th>num_orders</th>\n",
       "      <th>city_code</th>\n",
       "      <th>region_code</th>\n",
       "      <th>op_area</th>\n",
       "    </tr>\n",
       "    <tr>\n",
       "      <th>center_id</th>\n",
       "      <th></th>\n",
       "      <th></th>\n",
       "      <th></th>\n",
       "      <th></th>\n",
       "      <th></th>\n",
       "      <th></th>\n",
       "      <th></th>\n",
       "      <th></th>\n",
       "      <th></th>\n",
       "      <th></th>\n",
       "      <th></th>\n",
       "    </tr>\n",
       "  </thead>\n",
       "  <tbody>\n",
       "    <tr>\n",
       "      <th>10</th>\n",
       "      <td>1.251659e+06</td>\n",
       "      <td>74.715324</td>\n",
       "      <td>2006.095510</td>\n",
       "      <td>335.615692</td>\n",
       "      <td>356.333507</td>\n",
       "      <td>0.065146</td>\n",
       "      <td>0.115467</td>\n",
       "      <td>481.969779</td>\n",
       "      <td>590.0</td>\n",
       "      <td>56.0</td>\n",
       "      <td>6.3</td>\n",
       "    </tr>\n",
       "    <tr>\n",
       "      <th>11</th>\n",
       "      <td>1.247223e+06</td>\n",
       "      <td>74.610793</td>\n",
       "      <td>2007.852228</td>\n",
       "      <td>329.763219</td>\n",
       "      <td>351.403858</td>\n",
       "      <td>0.066755</td>\n",
       "      <td>0.106014</td>\n",
       "      <td>411.307161</td>\n",
       "      <td>679.0</td>\n",
       "      <td>56.0</td>\n",
       "      <td>3.7</td>\n",
       "    </tr>\n",
       "    <tr>\n",
       "      <th>13</th>\n",
       "      <td>1.250429e+06</td>\n",
       "      <td>74.691314</td>\n",
       "      <td>2003.845160</td>\n",
       "      <td>334.935542</td>\n",
       "      <td>355.689303</td>\n",
       "      <td>0.064859</td>\n",
       "      <td>0.143060</td>\n",
       "      <td>609.784984</td>\n",
       "      <td>590.0</td>\n",
       "      <td>56.0</td>\n",
       "      <td>6.7</td>\n",
       "    </tr>\n",
       "    <tr>\n",
       "      <th>14</th>\n",
       "      <td>1.249176e+06</td>\n",
       "      <td>74.294819</td>\n",
       "      <td>1994.082271</td>\n",
       "      <td>323.117025</td>\n",
       "      <td>347.279429</td>\n",
       "      <td>0.072836</td>\n",
       "      <td>0.134084</td>\n",
       "      <td>197.832809</td>\n",
       "      <td>654.0</td>\n",
       "      <td>56.0</td>\n",
       "      <td>2.7</td>\n",
       "    </tr>\n",
       "    <tr>\n",
       "      <th>17</th>\n",
       "      <td>1.249501e+06</td>\n",
       "      <td>73.814464</td>\n",
       "      <td>1989.942523</td>\n",
       "      <td>327.628844</td>\n",
       "      <td>351.026956</td>\n",
       "      <td>0.070425</td>\n",
       "      <td>0.093479</td>\n",
       "      <td>192.376283</td>\n",
       "      <td>517.0</td>\n",
       "      <td>56.0</td>\n",
       "      <td>3.2</td>\n",
       "    </tr>\n",
       "  </tbody>\n",
       "</table>\n",
       "</div>"
      ],
      "text/plain": [
       "                     id       week      meal_id  checkout_price  base_price  \\\n",
       "center_id                                                                     \n",
       "10         1.251659e+06  74.715324  2006.095510      335.615692  356.333507   \n",
       "11         1.247223e+06  74.610793  2007.852228      329.763219  351.403858   \n",
       "13         1.250429e+06  74.691314  2003.845160      334.935542  355.689303   \n",
       "14         1.249176e+06  74.294819  1994.082271      323.117025  347.279429   \n",
       "17         1.249501e+06  73.814464  1989.942523      327.628844  351.026956   \n",
       "\n",
       "           emailer_for_promotion  homepage_featured  num_orders  city_code  \\\n",
       "center_id                                                                    \n",
       "10                      0.065146           0.115467  481.969779      590.0   \n",
       "11                      0.066755           0.106014  411.307161      679.0   \n",
       "13                      0.064859           0.143060  609.784984      590.0   \n",
       "14                      0.072836           0.134084  197.832809      654.0   \n",
       "17                      0.070425           0.093479  192.376283      517.0   \n",
       "\n",
       "           region_code  op_area  \n",
       "center_id                        \n",
       "10                56.0      6.3  \n",
       "11                56.0      3.7  \n",
       "13                56.0      6.7  \n",
       "14                56.0      2.7  \n",
       "17                56.0      3.2  "
      ]
     },
     "execution_count": 27,
     "metadata": {},
     "output_type": "execute_result"
    }
   ],
   "source": [
    "center_id_train = train_data.groupby(by='center_id').mean()\n",
    "center_id_train.head()"
   ]
  },
  {
   "cell_type": "code",
   "execution_count": 28,
   "metadata": {},
   "outputs": [
    {
     "data": {
      "image/png": "[encoded data removed]",
      "text/plain": [
       "<Figure size 432x288 with 1 Axes>"
      ]
     },
     "metadata": {
      "needs_background": "light"
     },
     "output_type": "display_data"
    }
   ],
   "source": [
    "fig,ax = plt.subplots(1,1,figsize=(6,4));\n",
    "sns.lineplot(data = week_train, x=week_train.index, y= 'num_orders');\n",
    "ax.set_title(\"Number of Orders per week\");"
   ]
  },
  {
   "cell_type": "code",
   "execution_count": 29,
   "metadata": {},
   "outputs": [
    {
     "data": {
      "image/png": "[encoded data removed]",
      "text/plain": [
       "<Figure size 720x288 with 1 Axes>"
      ]
     },
     "metadata": {
      "needs_background": "light"
     },
     "output_type": "display_data"
    }
   ],
   "source": [
    "fig,ax = plt.subplots(1,1,figsize=(10,4));\n",
    "sns.scatterplot(data = week_train, x= week_train.index, y= \"base_price\");\n",
    "ax.set_title(\"Average Price per Week\");"
   ]
  },
  {
   "cell_type": "code",
   "execution_count": 30,
   "metadata": {},
   "outputs": [
    {
     "data": {
      "image/png": "[encoded data removed]",
      "text/plain": [
       "<Figure size 432x288 with 1 Axes>"
      ]
     },
     "metadata": {
      "needs_background": "light"
     },
     "output_type": "display_data"
    }
   ],
   "source": [
    "fig,ax = plt.subplots(1,1,figsize=(6,4));\n",
    "sns.boxplot(data = week_train, x= \"checkout_price\");\n",
    "ax.set_title(\"Distribution of Check Out Price\");"
   ]
  },
  {
   "cell_type": "code",
   "execution_count": 31,
   "metadata": {},
   "outputs": [
    {
     "data": {
      "text/plain": [
       "<matplotlib.lines.Line2D at 0x7fe7f12679a0>"
      ]
     },
     "execution_count": 31,
     "metadata": {},
     "output_type": "execute_result"
    },
    {
     "data": {
      "image/png": "[encoded data removed]",
      "text/plain": [
       "<Figure size 432x288 with 1 Axes>"
      ]
     },
     "metadata": {
      "needs_background": "light"
     },
     "output_type": "display_data"
    }
   ],
   "source": [
    "fig,ax = plt.subplots(1,1,figsize=(6,4));\n",
    "sns.histplot(data = week_train, x= \"num_orders\", kde = True);\n",
    "ax.set_title(\"Distribution of Number of Orders\");\n",
    "ax.axvline(160, color = 'red')\n",
    "ax.axvline(370, color = 'red')"
   ]
  },
  {
   "cell_type": "code",
   "execution_count": 32,
   "metadata": {},
   "outputs": [
    {
     "data": {
      "image/png": "[encoded data removed]",
      "text/plain": [
       "<Figure size 720x288 with 1 Axes>"
      ]
     },
     "metadata": {
      "needs_background": "light"
     },
     "output_type": "display_data"
    }
   ],
   "source": [
    "fig,ax = plt.subplots(1,1,figsize=(10,4));\n",
    "sns.scatterplot(data = center_id_train, x= center_id_train.index, y= 'num_orders', ax=ax);\n",
    "ax.set_title(\"Average Number of Orders per Center\");"
   ]
  }
 ],
 "metadata": {
  "kernelspec": {
   "display_name": "Python 3 (ipykernel)",
   "language": "python",
   "name": "python3"
  },
  "language_info": {
   "codemirror_mode": {
    "name": "ipython",
    "version": 3
   },
   "file_extension": ".py",
   "mimetype": "text/x-python",
   "name": "python",
   "nbconvert_exporter": "python",
   "pygments_lexer": "ipython3",
   "version": "3.8.12"
  }
 },
 "nbformat": 4,
 "nbformat_minor": 4
}
